{
  "cells": [
    {
      "cell_type": "code",
      "execution_count": null,
      "metadata": {
        "id": "VjYy0F2gZIPR"
      },
      "outputs": [],
      "source": [
        "# Cell 1: Mount Google Drive (remains the same)\n",
        "from google.colab import drive\n",
        "drive.mount('/content/drive')\n",
        "\n",
        "# Cell 2: Define Path, Install Dependencies, Clone/Update Fooocus\n",
        "!pip install pygit2==1.15.1 # Still needed for the Colab environment\n",
        "\n",
        "import os\n",
        "fooocus_path_base = \"/content/drive/MyDrive/Fooocus_Colab_Persistent\" # Renamed for clarity, use your preferred folder\n",
        "fooocus_repo_path = os.path.join(fooocus_path_base, \"Fooocus\") # Path to the Fooocus git repository\n",
        "\n",
        "os.makedirs(fooocus_repo_path, exist_ok=True) # Ensures the base and Fooocus directory structure can be made\n",
        "\n",
        "# Check if Fooocus repository is already cloned\n",
        "if not os.path.exists(os.path.join(fooocus_repo_path, '.git')):\n",
        "    print(f\"Cloning Fooocus into {fooocus_repo_path}...\")\n",
        "    # We need to be in fooocus_path_base to clone the 'Fooocus' folder into it\n",
        "    %cd {fooocus_path_base}\n",
        "    !git clone https://github.com/lllyasviel/Fooocus.git\n",
        "    %cd {fooocus_repo_path} # Move into the cloned Fooocus directory\n",
        "else:\n",
        "    print(f\"Fooocus already cloned in {fooocus_repo_path}.\")\n",
        "    %cd {fooocus_repo_path} # Move into the existing Fooocus directory\n",
        "    print(\"Attempting to update Fooocus to the latest version...\")\n",
        "    !git pull # Update Fooocus to the latest version from GitHub\n",
        "\n",
        "print(f\"Current working directory: {os.getcwd()}\") # Should be /content/drive/MyDrive/Fooocus_Colab_Persistent/Fooocus\n",
        "\n",
        "# Cell 3: Run Fooocus (remains the same)\n",
        "!python entry_with_update.py --share --always-high-vram"
      ]
    }
  ],
  "metadata": {
    "accelerator": "GPU",
    "colab": {
      "gpuType": "T4",
      "provenance": []
    },
    "kernelspec": {
      "display_name": "Python 3",
      "name": "python3"
    },
    "language_info": {
      "name": "python"
    }
  },
  "nbformat": 4,
  "nbformat_minor": 0
}