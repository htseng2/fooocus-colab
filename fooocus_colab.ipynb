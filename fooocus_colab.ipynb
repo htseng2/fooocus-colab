{
  "cells": [
    {
      "cell_type": "code",
      "execution_count": null,
      "metadata": {
        "id": "VjYy0F2gZIPR"
      },
      "outputs": [],
      "source": [
        "# Cell 1: Mount Google Drive (remains the same)\n",
        "from google.colab import drive\n",
        "drive.mount('/content/drive')\n",
        "\n",
        "# Cell 2: Define Path, Install Dependencies, Clone/Update Fooocus\n",
        "!pip install pygit2==1.15.1 # Still needed for the Colab environment\n",
        "\n",
        "import os\n",
        "\n",
        "# Define paths\n",
        "# Base path on your Google Drive where you want to store Fooocus related files\n",
        "fooocus_path_base = \"/content/drive/MyDrive/Fooocus_Colab_Persistent\"\n",
        "# The name of the Fooocus repository folder\n",
        "fooocus_repo_name = \"Fooocus\"\n",
        "# Full path to where the Fooocus repository will be cloned\n",
        "fooocus_repo_path = os.path.join(fooocus_path_base, fooocus_repo_name)\n",
        "\n",
        "# Ensure the base directory exists\n",
        "os.makedirs(fooocus_path_base, exist_ok=True)\n",
        "\n",
        "# Check if Fooocus repository is already cloned\n",
        "if not os.path.exists(os.path.join(fooocus_repo_path, '.git')):\n",
        "    print(f\"Fooocus repository not found in {fooocus_repo_path}.\")\n",
        "    print(f\"Cloning Fooocus into {fooocus_repo_path}...\")\n",
        "    # Change to the base directory before cloning\n",
        "    %cd {fooocus_path_base}\n",
        "    # Clone the repository, it will create a folder named 'Fooocus' (or fooocus_repo_name)\n",
        "    !git clone https://github.com/lllyasviel/Fooocus.git {fooocus_repo_name}\n",
        "else:\n",
        "    print(f\"Fooocus repository already exists in {fooocus_repo_path}.\")\n",
        "\n",
        "# Navigate into the Fooocus repository directory\n",
        "%cd {fooocus_repo_path}\n",
        "print(f\"Current working directory is now: {os.getcwd()}\") # For verification\n",
        "\n",
        "# Update Fooocus to the latest version from GitHub if it exists\n",
        "if os.path.exists(os.path.join(os.getcwd(), '.git')): # Check again just to be sure we are in a git repo\n",
        "    print(\"Attempting to update Fooocus to the latest version...\")\n",
        "    !git pull\n",
        "else:\n",
        "    print(f\"Not a git repository at {os.getcwd()}, skipping git pull.\")\n",
        "\n",
        "\n",
        "# Cell 3: Run Fooocus (remains the same)\n",
        "# This cell will now run from the correct directory: /content/drive/MyDrive/Fooocus_Colab_Persistent/Fooocus\n",
        "!python entry_with_update.py --share --always-high-vram"
      ]
    }
  ],
  "metadata": {
    "accelerator": "GPU",
    "colab": {
      "gpuType": "T4",
      "provenance": []
    },
    "kernelspec": {
      "display_name": "Python 3",
      "name": "python3"
    },
    "language_info": {
      "name": "python"
    }
  },
  "nbformat": 4,
  "nbformat_minor": 0
}