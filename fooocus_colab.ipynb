{
  "cells": [
    {
      "cell_type": "code",
      "execution_count": 1,
      "metadata": {
        "id": "VjYy0F2gZIPR",
        "colab": {
          "base_uri": "https://localhost:8080/"
        },
        "outputId": "14b689a8-8065-472b-e400-8f07ce7caef8"
      },
      "outputs": [
        {
          "output_type": "stream",
          "name": "stdout",
          "text": [
            "Mounted at /content/drive\n",
            "Collecting pygit2==1.15.1\n",
            "  Downloading pygit2-1.15.1-cp311-cp311-manylinux_2_17_x86_64.manylinux2014_x86_64.whl.metadata (3.3 kB)\n",
            "Requirement already satisfied: cffi>=1.16.0 in /usr/local/lib/python3.11/dist-packages (from pygit2==1.15.1) (1.17.1)\n",
            "Requirement already satisfied: pycparser in /usr/local/lib/python3.11/dist-packages (from cffi>=1.16.0->pygit2==1.15.1) (2.22)\n",
            "Downloading pygit2-1.15.1-cp311-cp311-manylinux_2_17_x86_64.manylinux2014_x86_64.whl (5.1 MB)\n",
            "\u001b[2K   \u001b[90m━━━━━━━━━━━━━━━━━━━━━━━━━━━━━━━━━━━━━━━━\u001b[0m \u001b[32m5.1/5.1 MB\u001b[0m \u001b[31m57.7 MB/s\u001b[0m eta \u001b[36m0:00:00\u001b[0m\n",
            "\u001b[?25hInstalling collected packages: pygit2\n",
            "  Attempting uninstall: pygit2\n",
            "    Found existing installation: pygit2 1.18.0\n",
            "    Uninstalling pygit2-1.18.0:\n",
            "      Successfully uninstalled pygit2-1.18.0\n",
            "Successfully installed pygit2-1.15.1\n",
            "Cloning Fooocus into /content/drive/MyDrive/Fooocus_Colab_Persistent/Fooocus...\n",
            "/content/drive/MyDrive/Fooocus_Colab_Persistent\n",
            "Cloning into 'Fooocus'...\n",
            "remote: Enumerating objects: 6725, done.\u001b[K\n",
            "remote: Total 6725 (delta 0), reused 0 (delta 0), pack-reused 6725 (from 1)\u001b[K\n",
            "Receiving objects: 100% (6725/6725), 33.33 MiB | 20.96 MiB/s, done.\n",
            "Resolving deltas: 100% (3854/3854), done.\n",
            "Updating files: 100% (612/612), done.\n",
            "[Errno 2] No such file or directory: '/content/drive/MyDrive/Fooocus_Colab_Persistent/Fooocus # Move into the cloned Fooocus directory'\n",
            "/content/drive/MyDrive/Fooocus_Colab_Persistent\n",
            "Current working directory: /content/drive/MyDrive/Fooocus_Colab_Persistent\n",
            "python3: can't open file '/content/drive/MyDrive/Fooocus_Colab_Persistent/entry_with_update.py': [Errno 2] No such file or directory\n"
          ]
        }
      ],
      "source": [
        "# Cell 1: Mount Google Drive (remains the same)\n",
        "from google.colab import drive\n",
        "drive.mount('/content/drive')\n",
        "\n",
        "# Cell 2: Define Path, Install Dependencies, Clone/Update Fooocus\n",
        "!pip install pygit2==1.15.1 # Still needed for the Colab environment\n",
        "\n",
        "import os\n",
        "\n",
        "# Define paths\n",
        "# Base path on your Google Drive where you want to store Fooocus related files\n",
        "fooocus_path_base = \"/content/drive/MyDrive/Fooocus_Colab_Persistent\"\n",
        "# The name of the Fooocus repository folder\n",
        "fooocus_repo_name = \"Fooocus\"\n",
        "# Full path to where the Fooocus repository will be cloned\n",
        "fooocus_repo_path = os.path.join(fooocus_path_base, fooocus_repo_name)\n",
        "\n",
        "# Ensure the base directory exists\n",
        "os.makedirs(fooocus_path_base, exist_ok=True)\n",
        "\n",
        "# Check if Fooocus repository is already cloned\n",
        "if not os.path.exists(os.path.join(fooocus_repo_path, '.git')):\n",
        "    print(f\"Fooocus repository not found in {fooocus_repo_path}.\")\n",
        "    print(f\"Cloning Fooocus into {fooocus_repo_path}...\")\n",
        "    # Change to the base directory before cloning\n",
        "    %cd {fooocus_path_base}\n",
        "    # Clone the repository, it will create a folder named 'Fooocus' (or fooocus_repo_name)\n",
        "    !git clone https://github.com/lllyasviel/Fooocus.git {fooocus_repo_name}\n",
        "else:\n",
        "    print(f\"Fooocus repository already exists in {fooocus_repo_path}.\")\n",
        "\n",
        "# Navigate into the Fooocus repository directory\n",
        "%cd {fooocus_repo_path}\n",
        "print(f\"Current working directory is now: {os.getcwd()}\") # For verification\n",
        "\n",
        "# Update Fooocus to the latest version from GitHub if it exists\n",
        "if os.path.exists(os.path.join(os.getcwd(), '.git')): # Check again just to be sure we are in a git repo\n",
        "    print(\"Attempting to update Fooocus to the latest version...\")\n",
        "    !git pull\n",
        "else:\n",
        "    print(f\"Not a git repository at {os.getcwd()}, skipping git pull.\")\n",
        "\n",
        "\n",
        "# Cell 3: Run Fooocus (remains the same)\n",
        "# This cell will now run from the correct directory: /content/drive/MyDrive/Fooocus_Colab_Persistent/Fooocus\n",
        "!python entry_with_update.py --share --always-high-vram"
      ]
    }
  ],
  "metadata": {
    "accelerator": "GPU",
    "colab": {
      "gpuType": "T4",
      "provenance": []
    },
    "kernelspec": {
      "display_name": "Python 3",
      "name": "python3"
    },
    "language_info": {
      "name": "python"
    }
  },
  "nbformat": 4,
  "nbformat_minor": 0
}